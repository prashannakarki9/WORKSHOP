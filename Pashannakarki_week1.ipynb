{
  "nbformat": 4,
  "nbformat_minor": 0,
  "metadata": {
    "colab": {
      "provenance": []
    },
    "kernelspec": {
      "name": "python3",
      "display_name": "Python 3"
    },
    "language_info": {
      "name": "python"
    }
  },
  "cells": [
    {
      "cell_type": "markdown",
      "source": [
        "**PROBLEM 1**"
      ],
      "metadata": {
        "id": "9_aepDDbAeZ0"
      }
    },
    {
      "cell_type": "markdown",
      "source": [
        "question no 1."
      ],
      "metadata": {
        "id": "B0tt1U7I9pA-"
      }
    },
    {
      "cell_type": "code",
      "execution_count": null,
      "metadata": {
        "colab": {
          "base_uri": "https://localhost:8080/"
        },
        "id": "knoPn90G8QLP",
        "outputId": "9d494c27-0ad2-455c-f85a-fca364f09a95"
      },
      "outputs": [
        {
          "output_type": "stream",
          "name": "stdout",
          "text": [
            "[[4.63516502e-310 0.00000000e+000]\n",
            " [9.04115220e+271 1.02124020e+277]]\n"
          ]
        }
      ],
      "source": [
        "import numpy as np\n",
        "A=np.empty((2,2))\n",
        "print(A)"
      ]
    },
    {
      "cell_type": "markdown",
      "source": [
        "question no 2."
      ],
      "metadata": {
        "id": "3ivgbT1T93eO"
      }
    },
    {
      "cell_type": "code",
      "source": [
        "import numpy as np\n",
        "A = np.ones((4,2))\n",
        "print(A)"
      ],
      "metadata": {
        "colab": {
          "base_uri": "https://localhost:8080/"
        },
        "id": "skMugSzK95VB",
        "outputId": "959b239f-64e3-431b-b053-f776820f3657"
      },
      "execution_count": null,
      "outputs": [
        {
          "output_type": "stream",
          "name": "stdout",
          "text": [
            "[[1. 1.]\n",
            " [1. 1.]\n",
            " [1. 1.]\n",
            " [1. 1.]]\n"
          ]
        }
      ]
    },
    {
      "cell_type": "markdown",
      "source": [
        "question no 3."
      ],
      "metadata": {
        "id": "Kc7IYAZH-H7X"
      }
    },
    {
      "cell_type": "code",
      "source": [
        "import numpy as np\n",
        "filled = np.full((2,2),1)#2*2 matrix filled by 1 as the value\n",
        "print(filled)"
      ],
      "metadata": {
        "colab": {
          "base_uri": "https://localhost:8080/"
        },
        "id": "A9_bA_cs-KHB",
        "outputId": "53209fa9-7a57-4b66-9b69-3f7a7f5fe7f5"
      },
      "execution_count": null,
      "outputs": [
        {
          "output_type": "stream",
          "name": "stdout",
          "text": [
            "[[1 1]\n",
            " [1 1]]\n"
          ]
        }
      ]
    },
    {
      "cell_type": "markdown",
      "source": [
        "question no 4."
      ],
      "metadata": {
        "id": "94d96my5-8HH"
      }
    },
    {
      "cell_type": "code",
      "source": [
        "import numpy as np\n",
        "arr = np.array([[1,2,3],[4,5,6]])\n",
        "print(arr)\n",
        "zero_arr = np.zeros_like(arr)\n",
        "print(zero_arr)"
      ],
      "metadata": {
        "colab": {
          "base_uri": "https://localhost:8080/"
        },
        "id": "aoxxU256--8N",
        "outputId": "ecab7e7c-74d1-470b-8560-716a7b53e9bc"
      },
      "execution_count": null,
      "outputs": [
        {
          "output_type": "stream",
          "name": "stdout",
          "text": [
            "[[1 2 3]\n",
            " [4 5 6]]\n",
            "[[0 0 0]\n",
            " [0 0 0]]\n"
          ]
        }
      ]
    },
    {
      "cell_type": "markdown",
      "source": [
        "question no 5."
      ],
      "metadata": {
        "id": "P4ipREAK_l6t"
      }
    },
    {
      "cell_type": "code",
      "source": [
        "import numpy as np\n",
        "arr = np.array([[1,2,3],[4,5,6]])\n",
        "print(arr)\n",
        "ones_arr = np.ones_like(arr)\n",
        "print(ones_arr)"
      ],
      "metadata": {
        "colab": {
          "base_uri": "https://localhost:8080/"
        },
        "id": "8a_7GFwb_nmr",
        "outputId": "7e8c3bf1-e8ad-489b-cbc6-e808a85d58be"
      },
      "execution_count": null,
      "outputs": [
        {
          "output_type": "stream",
          "name": "stdout",
          "text": [
            "[[1 2 3]\n",
            " [4 5 6]]\n",
            "[[1 1 1]\n",
            " [1 1 1]]\n"
          ]
        }
      ]
    },
    {
      "cell_type": "markdown",
      "source": [
        "question no 6."
      ],
      "metadata": {
        "id": "FgNl-R4x_7uJ"
      }
    },
    {
      "cell_type": "code",
      "source": [
        "import numpy as np\n",
        "new_list=[1,2,3,4,5]\n",
        "arr = np.array(new_list)\n",
        "print(arr)"
      ],
      "metadata": {
        "colab": {
          "base_uri": "https://localhost:8080/"
        },
        "id": "Wr3Y6dT0_9Rc",
        "outputId": "1c33df74-6893-4e38-baa7-3a06c9697bf7"
      },
      "execution_count": null,
      "outputs": [
        {
          "output_type": "stream",
          "name": "stdout",
          "text": [
            "[1 2 3 4 5]\n"
          ]
        }
      ]
    },
    {
      "cell_type": "markdown",
      "source": [
        "**PROBLEM 2**"
      ],
      "metadata": {
        "id": "uolwrjzAApL1"
      }
    },
    {
      "cell_type": "markdown",
      "source": [
        "question 1"
      ],
      "metadata": {
        "id": "02wn9jujAuiP"
      }
    },
    {
      "cell_type": "code",
      "source": [
        "import numpy as np\n",
        "arr = np.arange(10,49)\n",
        "print(arr)"
      ],
      "metadata": {
        "colab": {
          "base_uri": "https://localhost:8080/"
        },
        "id": "QDr27j7AAtNZ",
        "outputId": "f98d13e2-e2c6-4d1b-a4a2-2b236a338a90"
      },
      "execution_count": null,
      "outputs": [
        {
          "output_type": "stream",
          "name": "stdout",
          "text": [
            "[10 11 12 13 14 15 16 17 18 19 20 21 22 23 24 25 26 27 28 29 30 31 32 33\n",
            " 34 35 36 37 38 39 40 41 42 43 44 45 46 47 48]\n"
          ]
        }
      ]
    },
    {
      "cell_type": "markdown",
      "source": [
        "question 2"
      ],
      "metadata": {
        "id": "J8DS6K-gBCwK"
      }
    },
    {
      "cell_type": "code",
      "source": [
        "import numpy as np\n",
        "arr = np.arange(0,9).reshape(3,3)\n",
        "print(arr)"
      ],
      "metadata": {
        "colab": {
          "base_uri": "https://localhost:8080/"
        },
        "id": "w08HPL7hBDsn",
        "outputId": "db2ad2cd-09a3-4b74-daee-23c13d82a1cd"
      },
      "execution_count": null,
      "outputs": [
        {
          "output_type": "stream",
          "name": "stdout",
          "text": [
            "[[0 1 2]\n",
            " [3 4 5]\n",
            " [6 7 8]]\n"
          ]
        }
      ]
    },
    {
      "cell_type": "markdown",
      "source": [
        "question 3"
      ],
      "metadata": {
        "id": "B0M1ancaBsI9"
      }
    },
    {
      "cell_type": "code",
      "source": [
        "import numpy as np\n",
        "arr = np.eye(3,3)\n",
        "print(arr)"
      ],
      "metadata": {
        "colab": {
          "base_uri": "https://localhost:8080/"
        },
        "id": "yMHqe1cyBw4Y",
        "outputId": "2dcb2d36-51aa-4664-85c8-af3f952d2c85"
      },
      "execution_count": null,
      "outputs": [
        {
          "output_type": "stream",
          "name": "stdout",
          "text": [
            "[[1. 0. 0.]\n",
            " [0. 1. 0.]\n",
            " [0. 0. 1.]]\n"
          ]
        }
      ]
    },
    {
      "cell_type": "markdown",
      "source": [
        "question 4"
      ],
      "metadata": {
        "id": "0GkDs8qEB-OC"
      }
    },
    {
      "cell_type": "code",
      "source": [
        "import numpy as np\n",
        "arr = np.random.random(30)\n",
        "print(arr)\n",
        "arr_mean = arr.mean()\n",
        "print(\"\\n\", arr_mean)"
      ],
      "metadata": {
        "colab": {
          "base_uri": "https://localhost:8080/"
        },
        "id": "0BeYIC95B_WO",
        "outputId": "a5032633-8b0f-47e8-b104-dda4ad7e2a62"
      },
      "execution_count": null,
      "outputs": [
        {
          "output_type": "stream",
          "name": "stdout",
          "text": [
            "[0.25316571 0.05804136 0.11192424 0.21356917 0.40160648 0.53838875\n",
            " 0.72341908 0.38931199 0.77118695 0.69403547 0.38982082 0.49589215\n",
            " 0.43180007 0.57250565 0.82236922 0.72406099 0.12400481 0.22788642\n",
            " 0.79845947 0.07163072 0.19752169 0.44729177 0.28108827 0.5822033\n",
            " 0.85789205 0.13603174 0.07938553 0.37773566 0.21468016 0.83295654]\n",
            "\n",
            " 0.4273288733847763\n"
          ]
        }
      ]
    },
    {
      "cell_type": "markdown",
      "source": [
        "question 5"
      ],
      "metadata": {
        "id": "A0M-ZcUZCyk8"
      }
    },
    {
      "cell_type": "code",
      "source": [
        "import numpy as np\n",
        "arr = np.random.random((10,10))\n",
        "print(arr)\n",
        "arr_min = arr.min()\n",
        "arr_max = arr.max()\n",
        "print(\"\\n\", arr_min, arr_max)"
      ],
      "metadata": {
        "colab": {
          "base_uri": "https://localhost:8080/"
        },
        "id": "OiBtlaaZCzeo",
        "outputId": "4a85dd46-686c-465e-e89e-cf7b934d6000"
      },
      "execution_count": null,
      "outputs": [
        {
          "output_type": "stream",
          "name": "stdout",
          "text": [
            "[[0.95694992 0.21469665 0.34123915 0.8010515  0.02274428 0.2549822\n",
            "  0.15958751 0.57089512 0.92552514 0.7462947 ]\n",
            " [0.34694739 0.19195436 0.0398015  0.17475267 0.92611159 0.14968315\n",
            "  0.59069179 0.91818841 0.97608987 0.99674545]\n",
            " [0.18343649 0.89990307 0.15720029 0.43872506 0.9099269  0.38547253\n",
            "  0.61574266 0.48131515 0.49355118 0.8967568 ]\n",
            " [0.69208098 0.51866884 0.73149022 0.21876587 0.4358945  0.20594963\n",
            "  0.96490778 0.2957102  0.72596941 0.98250119]\n",
            " [0.83631173 0.2083463  0.47954676 0.6715684  0.78075956 0.74320244\n",
            "  0.45564489 0.33563334 0.25203191 0.56678889]\n",
            " [0.70556833 0.1735209  0.13491861 0.8393214  0.86915787 0.63097178\n",
            "  0.34190136 0.63856285 0.90693272 0.62405807]\n",
            " [0.72041511 0.10751712 0.36615068 0.09596223 0.025117   0.44840899\n",
            "  0.62020486 0.59082586 0.82624806 0.60088017]\n",
            " [0.19949099 0.20435207 0.37848826 0.8092342  0.18708876 0.52282685\n",
            "  0.25876197 0.36925977 0.21182906 0.8297098 ]\n",
            " [0.15910366 0.87292002 0.95319402 0.61846773 0.76036986 0.98025407\n",
            "  0.41443661 0.48372327 0.88652912 0.86776534]\n",
            " [0.8723544  0.70409059 0.45695369 0.70707284 0.66365384 0.9834727\n",
            "  0.5782864  0.01198744 0.8171157  0.8561975 ]]\n",
            "\n",
            " 0.011987444984293383 0.9967454496833011\n"
          ]
        }
      ]
    },
    {
      "cell_type": "markdown",
      "source": [
        "question 6"
      ],
      "metadata": {
        "id": "EHg-9NLDDBLF"
      }
    },
    {
      "cell_type": "code",
      "source": [
        "import numpy as np\n",
        "arr = np.zeros(10)\n",
        "arr[4] = 1\n",
        "print (arr)"
      ],
      "metadata": {
        "colab": {
          "base_uri": "https://localhost:8080/"
        },
        "id": "W43djbbZDD5q",
        "outputId": "75b0f890-fb86-48ae-973d-a09d40c562ef"
      },
      "execution_count": null,
      "outputs": [
        {
          "output_type": "stream",
          "name": "stdout",
          "text": [
            "[0. 0. 0. 0. 1. 0. 0. 0. 0. 0.]\n"
          ]
        }
      ]
    },
    {
      "cell_type": "markdown",
      "source": [
        "question 7"
      ],
      "metadata": {
        "id": "3244kuiXDUWQ"
      }
    },
    {
      "cell_type": "code",
      "source": [
        "import numpy as np\n",
        "arr = [1,2,0,0,4,0]\n",
        "rev_arr = np.flip(arr)\n",
        "print(rev_arr)"
      ],
      "metadata": {
        "colab": {
          "base_uri": "https://localhost:8080/"
        },
        "id": "acMp62sMDV5X",
        "outputId": "3ab20070-f947-48e1-bc14-8e7eaaa8c9b1"
      },
      "execution_count": null,
      "outputs": [
        {
          "output_type": "stream",
          "name": "stdout",
          "text": [
            "[0 4 0 0 2 1]\n"
          ]
        }
      ]
    },
    {
      "cell_type": "markdown",
      "source": [
        "question 8"
      ],
      "metadata": {
        "id": "J9E41Oc0DxM9"
      }
    },
    {
      "cell_type": "code",
      "source": [
        "import numpy as np\n",
        "arr = np.ones((4,4))\n",
        "print(\"original array: \\n\", arr)\n",
        "arr[1:-1,1:-1] = 0\n",
        "print(\"Array with 1 on the border and 0 on inside \\n\", arr)"
      ],
      "metadata": {
        "colab": {
          "base_uri": "https://localhost:8080/"
        },
        "id": "IlrMjNSkDyMc",
        "outputId": "5f929bc7-309b-4225-ab92-7d0362762657"
      },
      "execution_count": null,
      "outputs": [
        {
          "output_type": "stream",
          "name": "stdout",
          "text": [
            "original array: \n",
            " [[1. 1. 1. 1.]\n",
            " [1. 1. 1. 1.]\n",
            " [1. 1. 1. 1.]\n",
            " [1. 1. 1. 1.]]\n",
            "Array with 1 on the border and 0 on inside \n",
            " [[1. 1. 1. 1.]\n",
            " [1. 0. 0. 1.]\n",
            " [1. 0. 0. 1.]\n",
            " [1. 1. 1. 1.]]\n"
          ]
        }
      ]
    },
    {
      "cell_type": "markdown",
      "source": [
        "question 9"
      ],
      "metadata": {
        "id": "OJoDgmH7Ff95"
      }
    },
    {
      "cell_type": "code",
      "source": [],
      "metadata": {
        "id": "JP4G2uXlFhhU"
      },
      "execution_count": null,
      "outputs": []
    },
    {
      "cell_type": "markdown",
      "source": [
        "**Problem 3**"
      ],
      "metadata": {
        "id": "VvHVDAw4FkNy"
      }
    },
    {
      "cell_type": "code",
      "source": [
        "import numpy as np\n",
        "\n",
        "x = np.array([[1, 2], [3, 5]])\n",
        "y = np.array([[5, 6], [7, 8]])\n",
        "v = np.array([9, 10])\n",
        "w = np.array([11, 12])\n",
        "\n",
        "\n",
        "sum_x_y = x + y\n",
        "sum_v_w = v + w\n",
        "print(\"Sum of x and y matrices: \\n\", sum_x_y, \"\\n\")\n",
        "print(\"Sum of v and w vectors: \\n\", sum_v_w, \"\\n\")\n",
        "\n",
        "\n",
        "diff_x_y = x - y\n",
        "diff_v_w = v - w\n",
        "print(\"Difference of x and y matrices: \\n\", diff_x_y, \"\\n\")\n",
        "print(\"Difference of v and w vectors: \\n\", diff_v_w, \"\\n\")\n",
        "\n",
        "\n",
        "prod_x_y = x * y\n",
        "prod_v_w = v * w\n",
        "print(\"Element-wise product of x and y matrices: \\n\", prod_x_y, \"\\n\")\n",
        "print(\"Element-wise product of v and w vectors: \\n\", prod_v_w, \"\\n\")\n",
        "\n",
        "\n",
        "sqr_x = np.square(x)\n",
        "sqr_y = np.square(y)\n",
        "sqr_v = np.square(v)\n",
        "sqr_w = np.square(w)\n",
        "print(\"Square of x matrix: \\n\", sqr_x, \"\\n\")\n",
        "print(\"Square of y matrix: \\n\", sqr_y, \"\\n\")\n",
        "print(\"Square of v vector: \\n\", sqr_v, \"\\n\")\n",
        "print(\"Square of w vector: \\n\", sqr_w, \"\\n\")\n",
        "\n",
        "\n",
        "dot_x_y = np.dot(x, y)\n",
        "dot_v_w = np.dot(v, w)\n",
        "print(\"Dot product of x and y matrices: \\n\", dot_x_y, \"\\n\")\n",
        "print(\"Dot product of v and w vectors: \\n\", dot_v_w, \"\\n\")\n"
      ],
      "metadata": {
        "colab": {
          "base_uri": "https://localhost:8080/"
        },
        "id": "dEojuyEhFnRW",
        "outputId": "880d928f-858b-4e70-a463-0539d0e261ad"
      },
      "execution_count": 1,
      "outputs": [
        {
          "output_type": "stream",
          "name": "stdout",
          "text": [
            "Sum of x and y matrices: \n",
            " [[ 6  8]\n",
            " [10 13]] \n",
            "\n",
            "Sum of v and w vectors: \n",
            " [20 22] \n",
            "\n",
            "Difference of x and y matrices: \n",
            " [[-4 -4]\n",
            " [-4 -3]] \n",
            "\n",
            "Difference of v and w vectors: \n",
            " [-2 -2] \n",
            "\n",
            "Element-wise product of x and y matrices: \n",
            " [[ 5 12]\n",
            " [21 40]] \n",
            "\n",
            "Element-wise product of v and w vectors: \n",
            " [ 99 120] \n",
            "\n",
            "Square of x matrix: \n",
            " [[ 1  4]\n",
            " [ 9 25]] \n",
            "\n",
            "Square of y matrix: \n",
            " [[25 36]\n",
            " [49 64]] \n",
            "\n",
            "Square of v vector: \n",
            " [ 81 100] \n",
            "\n",
            "Square of w vector: \n",
            " [121 144] \n",
            "\n",
            "Dot product of x and y matrices: \n",
            " [[19 22]\n",
            " [50 58]] \n",
            "\n",
            "Dot product of v and w vectors: \n",
            " 219 \n",
            "\n"
          ]
        }
      ]
    },
    {
      "cell_type": "code",
      "source": [
        "import numpy as np\n",
        "import time\n",
        "\n",
        "# 1. Element-wise Addition\n",
        "list1 = [i for i in range(1000000)]\n",
        "list2 = [i for i in range(1000000)]\n",
        "arr1 = np.array(list1)\n",
        "arr2 = np.array(list2)\n",
        "\n",
        "# Python Lists\n",
        "start_time = time.time()\n",
        "list_sum = [list1[i] + list2[i] for i in range(len(list1))]\n",
        "end_time = time.time()\n",
        "print(\"Time taken for element-wise addition using Python Lists: \", end_time - start_time, \"seconds\\n\")\n",
        "\n",
        "# NumPy Arrays\n",
        "start_time = time.time()\n",
        "array_sum = arr1 + arr2\n",
        "end_time = time.time()\n",
        "print(\"Time taken for element-wise addition using NumPy Arrays: \", end_time - start_time, \"seconds\\n\")\n",
        "\n",
        "# 2. Element-wise Multiplication\n",
        "# Python Lists\n",
        "start_time = time.time()\n",
        "list_prod = [list1[i] * list2[i] for i in range(len(list1))]\n",
        "end_time = time.time()\n",
        "print(\"Time taken for element-wise multiplication using Python Lists: \", end_time - start_time, \"seconds\\n\")\n",
        "\n",
        "# NumPy Arrays\n",
        "start_time = time.time()\n",
        "array_prod = arr1 * arr2\n",
        "end_time = time.time()\n",
        "print(\"Time taken for element-wise multiplication using NumPy Arrays: \", end_time - start_time, \"seconds\\n\")\n",
        "\n",
        "# 3. Dot Product\n",
        "# Python Lists\n",
        "start_time = time.time()\n",
        "dot_product_list = sum(list1[i] * list2[i] for i in range(len(list1)))\n",
        "end_time = time.time()\n",
        "print(\"Time taken for dot product using Python Lists: \", end_time - start_time, \"seconds\\n\")\n",
        "\n",
        "# NumPy Arrays\n",
        "start_time = time.time()\n",
        "dot_product_array = np.dot(arr1, arr2)\n",
        "end_time = time.time()\n",
        "print(\"Time taken for dot product using NumPy Arrays: \", end_time - start_time, \"seconds\\n\")\n",
        "\n",
        "# 4. Matrix Multiplication\n",
        "matrix1 = [[i for i in range(1000)] for j in range(1000)]\n",
        "matrix2 = [[i for i in range(1000)] for j in range(1000)]\n",
        "numpy_matrix1 = np.array(matrix1)\n",
        "numpy_matrix2 = np.array(matrix2)\n",
        "\n",
        "# Python Lists\n",
        "start_time = time.time()\n",
        "matrix_result = [[sum(a * b for a, b in zip(matrix1_row, matrix2_col)) for matrix2_col in zip(*matrix2)] for matrix1_row in matrix1]\n",
        "end_time = time.time()\n",
        "print(\"Time taken for matrix multiplication using Python Lists: \", end_time - start_time, \"seconds\\n\")\n",
        "\n",
        "# NumPy Arrays\n",
        "start_time = time.time()\n",
        "numpy_matrix_result = np.dot(numpy_matrix1, numpy_matrix2)\n",
        "end_time = time.time()\n",
        "print(\"Time taken for matrix multiplication using NumPy Arrays: \", end_time - start_time, \"seconds\\n\")\n"
      ],
      "metadata": {
        "colab": {
          "base_uri": "https://localhost:8080/"
        },
        "id": "Yf8zZ-10DMjW",
        "outputId": "fc00f5ed-08b5-424f-eedd-8756807127cd"
      },
      "execution_count": 3,
      "outputs": [
        {
          "output_type": "stream",
          "name": "stdout",
          "text": [
            "Time taken for element-wise addition using Python Lists:  0.14768266677856445 seconds\n",
            "\n",
            "Time taken for element-wise addition using NumPy Arrays:  0.005029201507568359 seconds\n",
            "\n",
            "Time taken for element-wise multiplication using Python Lists:  0.16429877281188965 seconds\n",
            "\n",
            "Time taken for element-wise multiplication using NumPy Arrays:  0.004596233367919922 seconds\n",
            "\n",
            "Time taken for dot product using Python Lists:  0.15934157371520996 seconds\n",
            "\n",
            "Time taken for dot product using NumPy Arrays:  0.0020761489868164062 seconds\n",
            "\n",
            "Time taken for matrix multiplication using Python Lists:  208.2992136478424 seconds\n",
            "\n",
            "Time taken for matrix multiplication using NumPy Arrays:  1.4402155876159668 seconds\n",
            "\n"
          ]
        }
      ]
    }
  ]
}